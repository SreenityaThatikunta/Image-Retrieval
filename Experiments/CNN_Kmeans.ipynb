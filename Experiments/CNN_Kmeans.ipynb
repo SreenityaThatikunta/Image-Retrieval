{
  "cells": [
    {
      "cell_type": "markdown",
      "metadata": {
        "id": "5C9zXcLyE0dc"
      },
      "source": [
        "#**CNN+ KMEANS**"
      ]
    },
    {
      "cell_type": "code",
      "execution_count": null,
      "metadata": {
        "colab": {
          "base_uri": "https://localhost:8080/"
        },
        "id": "8BjKF8hvc1E4",
        "outputId": "a34ff451-dfa3-4748-cf92-55e49b59ff25"
      },
      "outputs": [
        {
          "name": "stdout",
          "output_type": "stream",
          "text": [
            "Train CNN Shape: (50000, 324), Test CNN Shape: (10000, 324)\n",
            "Train Accuracy: 68.84%\n",
            "Test Accuracy: 69.00%\n",
            "Classification Report (Test):\n",
            "              precision    recall  f1-score   support\n",
            "\n",
            "           0       0.82      0.61      0.70      1000\n",
            "           1       0.83      0.84      0.83      1000\n",
            "           2       0.78      0.46      0.58      1000\n",
            "           3       0.45      0.61      0.52      1000\n",
            "           4       0.60      0.58      0.59      1000\n",
            "           5       0.63      0.69      0.66      1000\n",
            "           6       0.68      0.78      0.72      1000\n",
            "           7       0.77      0.63      0.69      1000\n",
            "           8       0.71      0.86      0.78      1000\n",
            "           9       0.80      0.84      0.82      1000\n",
            "\n",
            "    accuracy                           0.69     10000\n",
            "   macro avg       0.71      0.69      0.69     10000\n",
            "weighted avg       0.71      0.69      0.69     10000\n",
            "\n"
          ]
        }
      ],
      "source": [
        "import numpy as np\n",
        "from sklearn.cluster import KMeans\n",
        "from sklearn.metrics import accuracy_score\n",
        "\n",
        "x_train_cnn = np.load('/content/drive/MyDrive/features_prml/cnn_train.npy')\n",
        "x_test_cnn = np.load('/content/drive/MyDrive/features_prml/cnn_test.npy')\n",
        "y_train = np.load('/content/drive/MyDrive/features_prml/y_train.npy').flatten()\n",
        "y_test = np.load('/content/drive/MyDrive/features_prml/y_test.npy').flatten()\n",
        "\n",
        "\n",
        "print(f\"Train CNN Shape: {x_train_hog.shape}, Test CNN Shape: {x_test_hog.shape}\")\n",
        "\n",
        "kmeans = KMeans(n_clusters=10, random_state=42, n_init=10)                      # Apply K-Means clustering\n",
        "kmeans.fit(x_train_cnn)\n",
        "\n",
        "y_train_pred = kmeans.predict(x_train_cnn)                                      # Predict labels\n",
        "y_test_pred = kmeans.predict(x_test_cnn)\n",
        "\n",
        "\n",
        "def map_labels(y_true, y_pred):                                                 # Map cluster labels to actual labels using majority voting\n",
        "    mapping = {}\n",
        "    for i in range(10):\n",
        "        cluster_indices = np.where(y_pred == i)[0]\n",
        "        true_labels = y_true[cluster_indices]\n",
        "        if len(true_labels) > 0:\n",
        "            mapping[i] = np.bincount(true_labels).argmax()\n",
        "    return np.array([mapping[label] for label in y_pred])\n",
        "\n",
        "y_train_pred_mapped = map_labels(y_train, y_train_pred)\n",
        "y_test_pred_mapped = map_labels(y_test, y_test_pred)\n",
        "\n",
        "\n",
        "train_accuracy = accuracy_score(y_train, y_train_pred_mapped)                   # Calculate accuracy\n",
        "test_accuracy = accuracy_score(y_test, y_test_pred_mapped)\n",
        "\n",
        "print(f\"Train Accuracy: {train_accuracy * 100:.2f}%\")\n",
        "print(f\"Test Accuracy: {test_accuracy * 100:.2f}%\")\n",
        "\n",
        "\n",
        "\n",
        "print(\"Classification Report (Test):\")\n",
        "print(classification_report(y_test, y_test_pred_mapped))"
      ]
    }
  ],
  "metadata": {
    "colab": {
      "provenance": []
    },
    "kernelspec": {
      "display_name": "Python 3",
      "name": "python3"
    },
    "language_info": {
      "name": "python"
    }
  },
  "nbformat": 4,
  "nbformat_minor": 0
}