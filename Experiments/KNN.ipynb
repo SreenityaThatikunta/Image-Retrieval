{
  "cells": [
    {
      "cell_type": "markdown",
      "metadata": {
        "id": "-TDZbEzhjksj"
      },
      "source": [
        "#**KNN**\n",
        "APPLYING KNN WITH K=5 ON THE FEATURES DIRECTLY"
      ]
    },
    {
      "cell_type": "code",
      "execution_count": null,
      "metadata": {
        "colab": {
          "base_uri": "https://localhost:8080/"
        },
        "id": "SxZneAZqPArm",
        "outputId": "0f1671fc-988e-4363-9fb7-4996a1532058"
      },
      "outputs": [
        {
          "name": "stdout",
          "output_type": "stream",
          "text": [
            "Downloading data from https://www.cs.toronto.edu/~kriz/cifar-10-python.tar.gz\n",
            "\u001b[1m170498071/170498071\u001b[0m \u001b[32m━━━━━━━━━━━━━━━━━━━━\u001b[0m\u001b[37m\u001b[0m \u001b[1m4s\u001b[0m 0us/step\n",
            "              precision    recall  f1-score   support\n",
            "\n",
            "           0       0.38      0.54      0.45      1000\n",
            "           1       0.67      0.21      0.32      1000\n",
            "           2       0.22      0.44      0.29      1000\n",
            "           3       0.30      0.23      0.26      1000\n",
            "           4       0.25      0.52      0.33      1000\n",
            "           5       0.39      0.22      0.28      1000\n",
            "           6       0.36      0.26      0.30      1000\n",
            "           7       0.69      0.22      0.33      1000\n",
            "           8       0.40      0.66      0.50      1000\n",
            "           9       0.73      0.13      0.23      1000\n",
            "\n",
            "    accuracy                           0.34     10000\n",
            "   macro avg       0.44      0.34      0.33     10000\n",
            "weighted avg       0.44      0.34      0.33     10000\n",
            "\n"
          ]
        }
      ],
      "source": [
        "import numpy as np\n",
        "from sklearn.neighbors import KNeighborsClassifier\n",
        "from sklearn.metrics import classification_report\n",
        "from sklearn.preprocessing import StandardScaler\n",
        "import tensorflow as tf\n",
        "\n",
        "# Load CIFAR-10 dataset\n",
        "(x_train, y_train), (x_test, y_test) = tf.keras.datasets.cifar10.load_data()\n",
        "y_train = y_train.flatten()\n",
        "y_test = y_test.flatten()\n",
        "\n",
        "# Flatten images (32x32x3 to 3072)\n",
        "x_train_flat = x_train.reshape(len(x_train), -1)\n",
        "x_test_flat = x_test.reshape(len(x_test), -1)\n",
        "\n",
        "# Normalize the data\n",
        "scaler = StandardScaler()\n",
        "x_train_flat = scaler.fit_transform(x_train_flat)\n",
        "x_test_flat = scaler.transform(x_test_flat)\n",
        "\n",
        "# Train KNN Classifier\n",
        "knn = KNeighborsClassifier(n_neighbors=5)\n",
        "knn.fit(x_train_flat, y_train)\n",
        "\n",
        "# Predict and evaluate\n",
        "y_pred = knn.predict(x_test_flat)\n",
        "\n",
        "# Classification report\n",
        "print(classification_report(y_test, y_pred))\n"
      ]
    },
    {
      "cell_type": "markdown",
      "source": [
        "# **KNN**\n",
        "FINDING OPTIMAL K FOR KNN USING CNN FEATURES"
      ],
      "metadata": {
        "id": "tZvZuutcr3LB"
      }
    },
    {
      "cell_type": "code",
      "source": [
        "import numpy as np\n",
        "from sklearn.neighbors import KNeighborsClassifier\n",
        "from sklearn.metrics import accuracy_score\n",
        "from sklearn.preprocessing import StandardScaler\n",
        "import matplotlib.pyplot as plt\n",
        "\n",
        "# Load CNN features for training and testing\n",
        "x_train_cnn = np.load('/content/drive/MyDrive/features_prml/cnn_train.npy')\n",
        "x_test_cnn = np.load('/content/drive/MyDrive/features_prml/cnn_test.npy')\n",
        "\n",
        "# Load corresponding labels\n",
        "y_train = (np.load('/content/drive/MyDrive/features_prml/y_train.npy')).flatten()\n",
        "y_test = (np.load('/content/drive/MyDrive/features_prml/y_test.npy')).flatten()\n",
        "\n",
        "\n",
        "# Standardize features by removing the mean and scaling to unit variance\n",
        "scaler = StandardScaler()\n",
        "x_train_cnn = scaler.fit_transform(x_train_cnn)   # Fit on train, transform train\n",
        "x_test_cnn = scaler.transform(x_test_cnn)         # Use same transform on test\n",
        "\n",
        "\n",
        "# Try different values of k (number of neighbors)\n",
        "k_values = range(1, 20)\n",
        "accuracies = []\n",
        "\n",
        "for k in k_values:\n",
        "    knn = KNeighborsClassifier(n_neighbors=k)\n",
        "    knn.fit(x_train_cnn, y_train)                 # Train the model\n",
        "    y_pred = knn.predict(x_test_cnn)              # Predict on test data\n",
        "    acc = accuracy_score(y_test, y_pred)          # Calculate accuracy\n",
        "    accuracies.append(acc)\n",
        "\n",
        "\n",
        "# Plot the accuracy vs k to find the optimal number of neighbors\n",
        "plt.figure(figsize=(8, 6))\n",
        "plt.plot(k_values, accuracies, marker='o', linestyle='-')\n",
        "plt.xlabel('Number of Neighbors (k)')\n",
        "plt.ylabel('Accuracy')\n",
        "plt.title('ACCURACY for KNN on CNN Features')  # Corrected title\n",
        "plt.grid(True)\n",
        "plt.xticks(k_values)\n",
        "plt.show()"
      ],
      "metadata": {
        "colab": {
          "base_uri": "https://localhost:8080/"
        },
        "id": "jpX2Jsy_rr2H",
        "outputId": "5dcce32a-3ce9-45a8-c103-b82787aa910a"
      },
      "execution_count": null,
      "outputs": [
        {
          "output_type": "display_data",
          "data": {
            "text/plain": [
              "<Figure size 800x600 with 1 Axes>"
            ],
            "image/png": "[encoded data removed]"
          },
          "metadata": {}
        }
      ]
    },
    {
      "cell_type": "markdown",
      "source": [
        "=> OPTIMAL K=9"
      ],
      "metadata": {
        "id": "646gUbE7zLhE"
      }
    },
    {
      "cell_type": "markdown",
      "metadata": {
        "id": "vcNbqrY8kheZ"
      },
      "source": [
        "# **KNN + HOG**"
      ]
    },
    {
      "cell_type": "code",
      "execution_count": null,
      "metadata": {
        "colab": {
          "base_uri": "https://localhost:8080/"
        },
        "id": "1lOO9q8-j-uz",
        "outputId": "b1e31db0-8fbd-4658-b8d7-ad46575ad842"
      },
      "outputs": [
        {
          "output_type": "stream",
          "name": "stderr",
          "text": [
            "/usr/local/lib/python3.11/dist-packages/sklearn/neighbors/_classification.py:239: DataConversionWarning: A column-vector y was passed when a 1d array was expected. Please change the shape of y to (n_samples,), for example using ravel().\n",
            "  return self._fit(X, y)\n"
          ]
        },
        {
          "output_type": "stream",
          "name": "stdout",
          "text": [
            "              precision    recall  f1-score   support\n",
            "\n",
            "           0       0.75      0.53      0.62      1000\n",
            "           1       0.71      0.75      0.73      1000\n",
            "           2       0.52      0.39      0.44      1000\n",
            "           3       0.44      0.16      0.23      1000\n",
            "           4       0.32      0.65      0.43      1000\n",
            "           5       0.50      0.26      0.35      1000\n",
            "           6       0.39      0.83      0.53      1000\n",
            "           7       0.75      0.50      0.60      1000\n",
            "           8       0.69      0.60      0.64      1000\n",
            "           9       0.70      0.62      0.66      1000\n",
            "\n",
            "    accuracy                           0.53     10000\n",
            "   macro avg       0.58      0.53      0.52     10000\n",
            "weighted avg       0.58      0.53      0.52     10000\n",
            "\n"
          ]
        }
      ],
      "source": [
        "import numpy as np\n",
        "from sklearn.neighbors import KNeighborsClassifier\n",
        "from sklearn.metrics import classification_report\n",
        "from sklearn.preprocessing import StandardScaler\n",
        "import tensorflow as tf\n",
        "\n",
        "# Load HoG features\n",
        "x_train_hog = np.load('/content/drive/MyDrive/features_prml/hog_train.npy')\n",
        "x_test_hog = np.load('/content/drive/MyDrive/features_prml/hog_test.npy')\n",
        "\n",
        "\n",
        "# Normalize the data\n",
        "scaler = StandardScaler()\n",
        "x_train_hog = scaler.fit_transform(x_train_hog)\n",
        "x_test_hog = scaler.transform(x_test_hog)\n",
        "\n",
        "# Train KNN Classifier\n",
        "knn = KNeighborsClassifier(n_neighbors=9)\n",
        "knn.fit(x_train_hog, y_train)\n",
        "\n",
        "# Predict and evaluate\n",
        "y_pred = knn.predict(x_test_hog)\n",
        "\n",
        "# Classification report\n",
        "print(classification_report(y_test, y_pred))\n",
        "\n"
      ]
    },
    {
      "cell_type": "markdown",
      "source": [
        "# **KNN + CNN**"
      ],
      "metadata": {
        "id": "Tr9xCxehsNco"
      }
    },
    {
      "cell_type": "code",
      "source": [
        "import numpy as np\n",
        "from sklearn.neighbors import KNeighborsClassifier\n",
        "from sklearn.metrics import classification_report\n",
        "from sklearn.preprocessing import StandardScaler\n",
        "import tensorflow as tf\n",
        "\n",
        "# Load HoG features\n",
        "x_train_hog = np.load('/content/drive/MyDrive/features_prml/cnn_train.npy')\n",
        "x_test_hog = np.load('/content/drive/MyDrive/features_prml/cnn_test.npy')\n",
        "\n",
        "\n",
        "# Normalize the data\n",
        "scaler = StandardScaler()\n",
        "x_train_hog = scaler.fit_transform(x_train_hog)\n",
        "x_test_hog = scaler.transform(x_test_hog)\n",
        "\n",
        "# Train KNN Classifier\n",
        "knn = KNeighborsClassifier(n_neighbors=9)\n",
        "knn.fit(x_train_hog, y_train)\n",
        "\n",
        "# Predict and evaluate\n",
        "y_pred = knn.predict(x_test_hog)\n",
        "\n",
        "# Classification report\n",
        "print(classification_report(y_test, y_pred))\n",
        "\n"
      ],
      "metadata": {
        "colab": {
          "base_uri": "https://localhost:8080/"
        },
        "id": "QB0ibcHzsNGx",
        "outputId": "49cdceea-1199-4c2a-b362-1fc19b54d433"
      },
      "execution_count": null,
      "outputs": [
        {
          "output_type": "stream",
          "name": "stderr",
          "text": [
            "/usr/local/lib/python3.11/dist-packages/sklearn/neighbors/_classification.py:239: DataConversionWarning: A column-vector y was passed when a 1d array was expected. Please change the shape of y to (n_samples,), for example using ravel().\n",
            "  return self._fit(X, y)\n"
          ]
        },
        {
          "output_type": "stream",
          "name": "stdout",
          "text": [
            "              precision    recall  f1-score   support\n",
            "\n",
            "           0       0.86      0.87      0.87      1000\n",
            "           1       0.89      0.93      0.91      1000\n",
            "           2       0.91      0.74      0.82      1000\n",
            "           3       0.72      0.78      0.75      1000\n",
            "           4       0.76      0.84      0.80      1000\n",
            "           5       0.90      0.77      0.83      1000\n",
            "           6       0.81      0.90      0.86      1000\n",
            "           7       0.91      0.84      0.87      1000\n",
            "           8       0.90      0.95      0.92      1000\n",
            "           9       0.90      0.90      0.90      1000\n",
            "\n",
            "    accuracy                           0.85     10000\n",
            "   macro avg       0.86      0.85      0.85     10000\n",
            "weighted avg       0.86      0.85      0.85     10000\n",
            "\n"
          ]
        }
      ]
    }
  ],
  "metadata": {
    "colab": {
      "provenance": []
    },
    "kernelspec": {
      "display_name": "Python 3",
      "name": "python3"
    },
    "language_info": {
      "name": "python"
    }
  },
  "nbformat": 4,
  "nbformat_minor": 0
}