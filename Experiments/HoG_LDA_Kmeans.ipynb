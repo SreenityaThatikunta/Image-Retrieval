{
  "cells": [
    {
      "cell_type": "markdown",
      "metadata": {
        "id": "DuKrDa-sTZTi"
      },
      "source": [
        "#**HOG + LDA + KMEANS**"
      ]
    },
    {
      "cell_type": "code",
      "execution_count": null,
      "metadata": {
        "colab": {
          "base_uri": "https://localhost:8080/"
        },
        "id": "onXGnMc5MfkK",
        "outputId": "1c4da741-e260-4245-ca4d-4341ed7db8ec"
      },
      "outputs": [
        {
          "output_type": "stream",
          "name": "stdout",
          "text": [
            "Train HoG Shape: (50000, 324), Test HoG Shape: (10000, 324)\n",
            "Train Accuracy: 52.30%\n",
            "Test Accuracy: 51.07%\n",
            "Classification Report (Test):\n",
            "              precision    recall  f1-score   support\n",
            "\n",
            "           0       0.66      0.49      0.56      1000\n",
            "           1       0.62      0.65      0.63      1000\n",
            "           2       0.50      0.32      0.39      1000\n",
            "           3       0.41      0.31      0.35      1000\n",
            "           4       0.38      0.58      0.46      1000\n",
            "           5       0.42      0.40      0.41      1000\n",
            "           6       0.45      0.60      0.52      1000\n",
            "           7       0.54      0.57      0.56      1000\n",
            "           8       0.60      0.55      0.58      1000\n",
            "           9       0.61      0.64      0.63      1000\n",
            "\n",
            "    accuracy                           0.51     10000\n",
            "   macro avg       0.52      0.51      0.51     10000\n",
            "weighted avg       0.52      0.51      0.51     10000\n",
            "\n"
          ]
        }
      ],
      "source": [
        "import numpy as np\n",
        "from sklearn.cluster import KMeans\n",
        "from sklearn.preprocessing import StandardScaler\n",
        "from sklearn.discriminant_analysis import LinearDiscriminantAnalysis as LDA\n",
        "from sklearn.metrics import accuracy_score\n",
        "from sklearn.metrics import classification_report\n",
        "\n",
        "x_train_hog = np.load('/content/drive/MyDrive/features_prml/hog_train.npy')     # Load the HoG features\n",
        "x_test_hog = np.load('/content/drive/MyDrive/features_prml/hog_test.npy')\n",
        "y_train = np.load('/content/drive/MyDrive/features_prml/y_train.npy')\n",
        "y_test = np.load('/content/drive/MyDrive/features_prml/y_test.npy')\n",
        "\n",
        "\n",
        "y_train = y_train.flatten()                                                     # Reshape labels\n",
        "y_test = y_test.flatten()\n",
        "\n",
        "print(f\"Train HoG Shape: {x_train_hog.shape}, Test HoG Shape: {x_test_hog.shape}\")\n",
        "\n",
        "scaler = StandardScaler()                                                       # Normalize Features\n",
        "x_train_hog = scaler.fit_transform(x_train_hog)\n",
        "x_test_hog = scaler.transform(x_test_hog)\n",
        "                                                                                #LDA for Dimensionality Reduction\n",
        "lda = LDA(n_components=9) # n_components = classes - 1\n",
        "x_train_lda = lda.fit_transform(x_train_hog, y_train)\n",
        "x_test_lda = lda.transform(x_test_hog)\n",
        "\n",
        "kmeans = KMeans(n_clusters=10, random_state=42, n_init=50)                      # Apply K-Means Clustering with 10 Clusters\n",
        "kmeans.fit(x_train_lda)\n",
        "y_train_pred = kmeans.predict(x_train_lda)\n",
        "y_test_pred = kmeans.predict(x_test_lda)\n",
        "\n",
        "def map_labels(y_true, y_pred):                                                 # Map cluster labels to actual labels using majority voting\n",
        "    mapping = {}\n",
        "    for i in range(10):\n",
        "        cluster_indices = np.where(y_pred == i)[0]\n",
        "        true_labels = y_true[cluster_indices]\n",
        "        if len(true_labels) > 0:\n",
        "            mapping[i] = np.bincount(true_labels).argmax()\n",
        "    return np.array([mapping[label] for label in y_pred])\n",
        "\n",
        "y_train_pred_mapped = map_labels(y_train, y_train_pred)\n",
        "y_test_pred_mapped = map_labels(y_test, y_test_pred)\n",
        "\n",
        "\n",
        "train_accuracy = accuracy_score(y_train, y_train_pred_mapped)                   # Calculate Accuracy\n",
        "test_accuracy = accuracy_score(y_test, y_test_pred_mapped)\n",
        "\n",
        "print(f\"Train Accuracy: {train_accuracy * 100:.2f}%\")\n",
        "print(f\"Test Accuracy: {test_accuracy * 100:.2f}%\")\n",
        "\n",
        "print(\"Classification Report (Test):\")\n",
        "print(classification_report(y_test, y_test_pred_mapped))"
      ]
    }
  ],
  "metadata": {
    "colab": {
      "provenance": []
    },
    "kernelspec": {
      "display_name": "Python 3",
      "name": "python3"
    },
    "language_info": {
      "name": "python"
    }
  },
  "nbformat": 4,
  "nbformat_minor": 0
}