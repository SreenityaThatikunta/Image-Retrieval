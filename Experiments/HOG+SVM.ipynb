{
  "cells": [
    {
      "cell_type": "code",
      "source": [
        "import numpy as np\n",
        "import matplotlib.pyplot as plt\n",
        "from skimage.feature import hog\n",
        "from skimage.color import rgb2gray\n",
        "from tensorflow.keras.datasets import cifar10\n",
        "from sklearn.svm import SVC\n",
        "from sklearn.metrics import accuracy_score\n",
        "from sklearn.metrics import classification_report"
      ],
      "metadata": {
        "id": "UVtAijmmvCux"
      },
      "execution_count": null,
      "outputs": []
    },
    {
      "cell_type": "code",
      "source": [
        "(x_train, y_train), (x_test, y_test) = cifar10.load_data()"
      ],
      "metadata": {
        "id": "57_SRZm1vjPQ"
      },
      "execution_count": null,
      "outputs": []
    },
    {
      "cell_type": "code",
      "source": [
        "import torch\n",
        "import torchvision\n",
        "import torchvision.transforms as transforms\n",
        "import numpy as np\n",
        "from sklearn.svm import SVC\n",
        "from sklearn.metrics import accuracy_score,classification_report\n",
        "from torch.utils.data import DataLoader\n",
        "import torch.nn as nn\n",
        "\n",
        "#Data Loading\n",
        "transform = transforms.Compose([\n",
        "    transforms.Resize((224, 224)),\n",
        "    transforms.ToTensor(),\n",
        "    transforms.Normalize(mean=[0.485, 0.456, 0.406], std=[0.229, 0.224, 0.225])\n",
        "])\n",
        "\n",
        "trainset = torchvision.datasets.CIFAR10(root='./data', train=True, download=True, transform=transform)\n",
        "testset = torchvision.datasets.CIFAR10(root='./data', train=False, download=True, transform=transform)\n",
        "\n",
        "trainloader = DataLoader(trainset, batch_size=100, shuffle=True)\n",
        "testloader = DataLoader(testset, batch_size=100, shuffle=False)\n"
      ],
      "metadata": {
        "id": "bUrTsPIUboXY"
      },
      "execution_count": null,
      "outputs": []
    },
    {
      "cell_type": "code",
      "source": [
        "def extract_hog_features(images):\n",
        "    hog_features = []\n",
        "    for img in images:\n",
        "        gray = rgb2gray(img)\n",
        "        features, _ = hog(gray, orientations=9, pixels_per_cell=(8, 8),\n",
        "                          cells_per_block=(2, 2), visualize=True, block_norm='L2-Hys')\n",
        "        hog_features.append(features)\n",
        "    return np.array(hog_features)\n"
      ],
      "metadata": {
        "id": "vjDHuhONvpp1"
      },
      "execution_count": null,
      "outputs": []
    },
    {
      "cell_type": "code",
      "source": [
        "#Extracting Features using HOG\n",
        "x_train_hog = extract_hog_features(x_train)\n",
        "x_test_hog = extract_hog_features(x_test)"
      ],
      "metadata": {
        "id": "6anzIHUmv4Jc"
      },
      "execution_count": null,
      "outputs": []
    },
    {
      "cell_type": "code",
      "source": [
        "print(x_train_hog.shape)"
      ],
      "metadata": {
        "colab": {
          "base_uri": "https://localhost:8080/"
        },
        "id": "0_QBjvsxwgaU",
        "outputId": "555df32a-04fb-49c8-ffd7-fc006cb523f4"
      },
      "execution_count": null,
      "outputs": [
        {
          "output_type": "stream",
          "name": "stdout",
          "text": [
            "(50000, 324)\n"
          ]
        }
      ]
    },
    {
      "cell_type": "code",
      "source": [
        "from sklearn.svm import SVC\n",
        "\n",
        "model = SVC(kernel='rbf')     #Train Model for Radial Basis Function\n",
        "model.fit(x_train_hog, y_train.ravel())\n",
        "y_pred = model.predict(x_test_hog)\n"
      ],
      "metadata": {
        "id": "VAneH0oW9EYQ"
      },
      "execution_count": null,
      "outputs": []
    },
    {
      "cell_type": "code",
      "source": [
        "print(classification_report(y_test,y_pred))\n",
        "print(accuracy_score(y_test,y_pred))"
      ],
      "metadata": {
        "colab": {
          "base_uri": "https://localhost:8080/"
        },
        "id": "drzIdLY297Rl",
        "outputId": "860e6269-9c3f-47c5-b550-5ccb61f1c4ca"
      },
      "execution_count": null,
      "outputs": [
        {
          "output_type": "stream",
          "name": "stdout",
          "text": [
            "              precision    recall  f1-score   support\n",
            "\n",
            "           0       0.57      0.62      0.59      1000\n",
            "           1       0.59      0.64      0.61      1000\n",
            "           2       0.45      0.41      0.43      1000\n",
            "           3       0.41      0.33      0.37      1000\n",
            "           4       0.43      0.48      0.45      1000\n",
            "           5       0.46      0.42      0.44      1000\n",
            "           6       0.53      0.62      0.57      1000\n",
            "           7       0.59      0.56      0.58      1000\n",
            "           8       0.58      0.58      0.58      1000\n",
            "           9       0.65      0.64      0.65      1000\n",
            "\n",
            "    accuracy                           0.53     10000\n",
            "   macro avg       0.53      0.53      0.53     10000\n",
            "weighted avg       0.53      0.53      0.53     10000\n",
            "\n",
            "0.53\n"
          ]
        }
      ]
    }
  ],
  "metadata": {
    "colab": {
      "provenance": []
    },
    "kernelspec": {
      "display_name": "Python 3",
      "name": "python3"
    },
    "language_info": {
      "name": "python"
    }
  },
  "nbformat": 4,
  "nbformat_minor": 0
}