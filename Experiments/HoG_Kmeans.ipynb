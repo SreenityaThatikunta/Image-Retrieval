{
  "cells": [
    {
      "cell_type": "markdown",
      "metadata": {
        "id": "PblHurIE0kkZ"
      },
      "source": [
        "# **HOG + KMEANS**"
      ]
    },
    {
      "cell_type": "code",
      "execution_count": null,
      "metadata": {
        "colab": {
          "base_uri": "https://localhost:8080/"
        },
        "id": "sEdYn3dsCroq",
        "outputId": "5c4e6657-6ed4-4ac8-c4a4-710a46478999"
      },
      "outputs": [
        {
          "name": "stdout",
          "output_type": "stream",
          "text": [
            "Train HoG Shape: (50000, 324), Test HoG Shape: (10000, 324)\n",
            "Train Accuracy: 26.25%\n",
            "Test Accuracy: 25.55%\n",
            "Classification Report (Test):\n",
            "              precision    recall  f1-score   support\n",
            "\n",
            "           0       0.00      0.00      0.00      1000\n",
            "           1       0.28      0.51      0.36      1000\n",
            "           2       0.24      0.19      0.21      1000\n",
            "           3       0.00      0.00      0.00      1000\n",
            "           4       0.00      0.00      0.00      1000\n",
            "           5       0.30      0.40      0.34      1000\n",
            "           6       0.20      0.43      0.27      1000\n",
            "           7       0.19      0.39      0.26      1000\n",
            "           8       0.36      0.30      0.33      1000\n",
            "           9       0.32      0.33      0.33      1000\n",
            "\n",
            "    accuracy                           0.26     10000\n",
            "   macro avg       0.19      0.26      0.21     10000\n",
            "weighted avg       0.19      0.26      0.21     10000\n",
            "\n"
          ]
        },
        {
          "name": "stderr",
          "output_type": "stream",
          "text": [
            "/usr/local/lib/python3.11/dist-packages/sklearn/metrics/_classification.py:1565: UndefinedMetricWarning: Precision is ill-defined and being set to 0.0 in labels with no predicted samples. Use `zero_division` parameter to control this behavior.\n",
            "  _warn_prf(average, modifier, f\"{metric.capitalize()} is\", len(result))\n",
            "/usr/local/lib/python3.11/dist-packages/sklearn/metrics/_classification.py:1565: UndefinedMetricWarning: Precision is ill-defined and being set to 0.0 in labels with no predicted samples. Use `zero_division` parameter to control this behavior.\n",
            "  _warn_prf(average, modifier, f\"{metric.capitalize()} is\", len(result))\n",
            "/usr/local/lib/python3.11/dist-packages/sklearn/metrics/_classification.py:1565: UndefinedMetricWarning: Precision is ill-defined and being set to 0.0 in labels with no predicted samples. Use `zero_division` parameter to control this behavior.\n",
            "  _warn_prf(average, modifier, f\"{metric.capitalize()} is\", len(result))\n"
          ]
        }
      ],
      "source": [
        "import numpy as np\n",
        "from sklearn.cluster import KMeans\n",
        "from sklearn.metrics import accuracy_score\n",
        "\n",
        "x_train_hog = np.load('/content/drive/MyDrive/features_prml/hog_train.npy')     # Load the HoG features\n",
        "x_test_hog = np.load('/content/drive/MyDrive/features_prml/hog_test.npy')\n",
        "y_train = np.load('/content/drive/MyDrive/features_prml/y_train.npy')\n",
        "y_test = np.load('/content/drive/MyDrive/features_prml/y_test.npy')\n",
        "\n",
        "\n",
        "\n",
        "y_train = y_train.flatten()                                                     # Reshape labels\n",
        "y_test = y_test.flatten()\n",
        "\n",
        "print(f\"Train HoG Shape: {x_train_hog.shape}, Test HoG Shape: {x_test_hog.shape}\")\n",
        "\n",
        "kmeans = KMeans(n_clusters=10, random_state=42, n_init=10)                      # Apply K-Means clustering\n",
        "kmeans.fit(x_train_hog)\n",
        "\n",
        "\n",
        "y_train_pred = kmeans.predict(x_train_hog)                                      # Predict labels\n",
        "y_test_pred = kmeans.predict(x_test_hog)\n",
        "\n",
        "\n",
        "def map_labels(y_true, y_pred):                                                 # Map cluster labels to actual labels using majority voting\n",
        "    mapping = {}\n",
        "    for i in range(10):\n",
        "        cluster_indices = np.where(y_pred == i)[0]\n",
        "        true_labels = y_true[cluster_indices]\n",
        "        if len(true_labels) > 0:\n",
        "            mapping[i] = np.bincount(true_labels).argmax()\n",
        "    return np.array([mapping[label] for label in y_pred])\n",
        "\n",
        "y_train_pred_mapped = map_labels(y_train, y_train_pred)\n",
        "y_test_pred_mapped = map_labels(y_test, y_test_pred)\n",
        "\n",
        "\n",
        "train_accuracy = accuracy_score(y_train, y_train_pred_mapped)                   # Calculate accuracy\n",
        "test_accuracy = accuracy_score(y_test, y_test_pred_mapped)\n",
        "\n",
        "print(f\"Train Accuracy: {train_accuracy * 100:.2f}%\")\n",
        "print(f\"Test Accuracy: {test_accuracy * 100:.2f}%\")\n",
        "\n",
        "\n",
        "print(\"Classification Report (Test):\")\n",
        "print(classification_report(y_test, y_test_pred_mapped))\n"
      ]
    }
  ],
  "metadata": {
    "colab": {
      "provenance": []
    },
    "kernelspec": {
      "display_name": "Python 3",
      "name": "python3"
    },
    "language_info": {
      "name": "python"
    }
  },
  "nbformat": 4,
  "nbformat_minor": 0
}